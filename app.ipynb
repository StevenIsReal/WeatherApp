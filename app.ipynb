{
 "cells": [
  {
   "cell_type": "code",
   "execution_count": 1,
   "id": "ed181677",
   "metadata": {},
   "outputs": [
    {
     "name": "stdout",
     "output_type": "stream",
     "text": [
      "Requirement already satisfied: Flask in c:\\users\\steven\\anaconda3\\lib\\site-packages (2.2.2)\n",
      "Requirement already satisfied: Jinja2>=3.0 in c:\\users\\steven\\anaconda3\\lib\\site-packages (from Flask) (3.1.2)\n",
      "Requirement already satisfied: itsdangerous>=2.0 in c:\\users\\steven\\anaconda3\\lib\\site-packages (from Flask) (2.0.1)\n",
      "Requirement already satisfied: importlib-metadata>=3.6.0 in c:\\users\\steven\\anaconda3\\lib\\site-packages (from Flask) (4.11.3)\n",
      "Requirement already satisfied: Werkzeug>=2.2.2 in c:\\users\\steven\\anaconda3\\lib\\site-packages (from Flask) (2.2.2)\n",
      "Requirement already satisfied: click>=8.0 in c:\\users\\steven\\anaconda3\\lib\\site-packages (from Flask) (8.0.4)\n",
      "Requirement already satisfied: colorama in c:\\users\\steven\\anaconda3\\lib\\site-packages (from click>=8.0->Flask) (0.4.6)\n",
      "Requirement already satisfied: zipp>=0.5 in c:\\users\\steven\\anaconda3\\lib\\site-packages (from importlib-metadata>=3.6.0->Flask) (3.11.0)\n",
      "Requirement already satisfied: MarkupSafe>=2.0 in c:\\users\\steven\\anaconda3\\lib\\site-packages (from Jinja2>=3.0->Flask) (2.1.1)\n",
      "Note: you may need to restart the kernel to use updated packages.\n"
     ]
    }
   ],
   "source": [
    "pip install Flask"
   ]
  },
  {
   "cell_type": "code",
   "execution_count": 2,
   "id": "ce00ebed",
   "metadata": {},
   "outputs": [],
   "source": [
    "from flask import Flask, render_template, request, redirect, url_for\n",
    "import requests"
   ]
  },
  {
   "cell_type": "code",
   "execution_count": 3,
   "id": "1484ea9c",
   "metadata": {},
   "outputs": [],
   "source": [
    "app = Flask(__name__)\n",
    "app.config['STATIC_FOLDER'] = 'static' "
   ]
  },
  {
   "cell_type": "code",
   "execution_count": 4,
   "id": "0c48645d",
   "metadata": {},
   "outputs": [],
   "source": [
    "api_key = \"68ab1f459ee008f71ca25ee6f1021856\""
   ]
  },
  {
   "cell_type": "code",
   "execution_count": 5,
   "id": "eca393ff",
   "metadata": {},
   "outputs": [],
   "source": [
    "@app.route('/')\n",
    "def index():\n",
    "    return render_template('index.html')"
   ]
  },
  {
   "cell_type": "code",
   "execution_count": 6,
   "id": "45c9c8d2",
   "metadata": {},
   "outputs": [],
   "source": [
    "@app.route('/weather', methods=['POST'])\n",
    "def get_weather():\n",
    "    city = request.form['city']\n",
    "    base_url = 'https://api.openweathermap.org/data/2.5/weather?'\n",
    "\n",
    "    # Specify the units (e.g., imperial for Fahrenheit)\n",
    "    units = 'imperial'\n",
    "\n",
    "    # Construct the complete API URL\n",
    "    url = f'{base_url}q={city}&units={units}&appid={api_key}'\n",
    "\n",
    "    try:\n",
    "        # Make the API request\n",
    "        response = requests.get(url)\n",
    "        data = response.json()\n",
    "\n",
    "        # Extract relevant weather information\n",
    "        temperature = data['main']['temp']\n",
    "        description = data['weather'][0]['description']\n",
    "        humidity = data['main']['humidity']\n",
    "        wind_speed = data['wind']['speed']\n",
    "        pressure = data['main']['pressure']\n",
    "\n",
    "        # Return a weather template with the data\n",
    "        return render_template(\n",
    "            'weather.html',\n",
    "            city=city,\n",
    "            temperature=temperature,\n",
    "            description=description,\n",
    "            humidity=humidity,\n",
    "            wind_speed=wind_speed,\n",
    "            pressure=pressure\n",
    "        )\n",
    "    except Exception as e:\n",
    "        # Handle API request errors, e.g., if the city is not found\n",
    "        error_message = f\"Error: {str(e)}\"\n",
    "        return render_template('error.html', error_message=error_message)"
   ]
  },
  {
   "cell_type": "code",
   "execution_count": null,
   "id": "08031ac7",
   "metadata": {
    "scrolled": true
   },
   "outputs": [
    {
     "name": "stdout",
     "output_type": "stream",
     "text": [
      " * Serving Flask app '__main__'\n",
      " * Debug mode: off\n"
     ]
    },
    {
     "name": "stderr",
     "output_type": "stream",
     "text": [
      "WARNING: This is a development server. Do not use it in a production deployment. Use a production WSGI server instead.\n",
      " * Running on http://127.0.0.1:5000\n",
      "Press CTRL+C to quit\n",
      "127.0.0.1 - - [09/Oct/2023 15:09:29] \"GET / HTTP/1.1\" 200 -\n",
      "127.0.0.1 - - [09/Oct/2023 15:09:29] \"GET /static/HomePage.css HTTP/1.1\" 304 -\n",
      "127.0.0.1 - - [09/Oct/2023 15:09:29] \"GET /static/wolfgang-hasselmann-bR_-gllg7Bs-unsplash.jpg HTTP/1.1\" 304 -\n",
      "127.0.0.1 - - [09/Oct/2023 15:09:31] \"POST /weather HTTP/1.1\" 200 -\n",
      "127.0.0.1 - - [09/Oct/2023 15:09:31] \"GET /static/Results.css HTTP/1.1\" 200 -\n",
      "127.0.0.1 - - [09/Oct/2023 15:09:41] \"GET / HTTP/1.1\" 200 -\n",
      "127.0.0.1 - - [09/Oct/2023 15:09:41] \"GET /static/HomePage.css HTTP/1.1\" 304 -\n",
      "127.0.0.1 - - [09/Oct/2023 15:09:41] \"GET /static/wolfgang-hasselmann-bR_-gllg7Bs-unsplash.jpg HTTP/1.1\" 304 -\n",
      "127.0.0.1 - - [09/Oct/2023 15:09:54] \"POST /weather HTTP/1.1\" 200 -\n",
      "127.0.0.1 - - [09/Oct/2023 15:09:54] \"GET /static/Results.css HTTP/1.1\" 304 -\n",
      "127.0.0.1 - - [09/Oct/2023 15:09:55] \"GET / HTTP/1.1\" 200 -\n",
      "127.0.0.1 - - [09/Oct/2023 15:09:55] \"GET /static/HomePage.css HTTP/1.1\" 304 -\n",
      "127.0.0.1 - - [09/Oct/2023 15:09:58] \"POST /weather HTTP/1.1\" 200 -\n",
      "127.0.0.1 - - [09/Oct/2023 15:09:58] \"GET /static/Results.css HTTP/1.1\" 304 -\n"
     ]
    }
   ],
   "source": [
    "# Run the Flask app\n",
    "if __name__ == \"__main__\":\n",
    "    app.run()"
   ]
  },
  {
   "cell_type": "code",
   "execution_count": null,
   "id": "814b8557",
   "metadata": {},
   "outputs": [],
   "source": []
  }
 ],
 "metadata": {
  "kernelspec": {
   "display_name": "Python 3 (ipykernel)",
   "language": "python",
   "name": "python3"
  },
  "language_info": {
   "codemirror_mode": {
    "name": "ipython",
    "version": 3
   },
   "file_extension": ".py",
   "mimetype": "text/x-python",
   "name": "python",
   "nbconvert_exporter": "python",
   "pygments_lexer": "ipython3",
   "version": "3.9.16"
  }
 },
 "nbformat": 4,
 "nbformat_minor": 5
}
